{
 "cells": [
  {
   "cell_type": "markdown",
   "id": "f2388512-81b3-4b48-99c1-2d8ae728f9e6",
   "metadata": {},
   "source": [
    "Q1. Class and Object are the two main concepts in Object-Oriented Programming (OOP).\n",
    "\n",
    "A class is like a blueprint or template for creating objects. It defines the attributes (data) and methods (functions) that an object of that class will have. Think of it as a way to define a type of object, just like how you can define a type of animal as a cat, dog, or horse.\n",
    "\n",
    "An object is an instance of a class. It is a specific and unique occurrence of a class, with its own set of data (attributes) and functions (methods). Think of it as a specific animal, like a Siamese cat or a Golden Retriever.\n",
    "\n",
    "For example, let's say you have a class called \"Person\". This class would have attributes like name, age, height, and weight. It would also have methods like eat, sleep, and talk. Then, you can create several objects of the class Person, each with their own specific data and behaviors, such as \"John\", \"Jane\", \"Jim\", etc.\n",
    "\n",
    "In OOP, classes and objects allow you to create complex and abstract systems by breaking down problems into smaller and more manageable parts. This helps you to write more organized and reusable code.\n",
    "\n",
    "\n",
    "\n"
   ]
  },
  {
   "cell_type": "markdown",
   "id": "e6323fda-3cde-446b-b58c-d2b5fb03f568",
   "metadata": {},
   "source": [
    "Q2. The four pillars of OOPs are\n",
    "1. Inheritance 2. Abstraction 3. Polymorphism 4. Encapsulation"
   ]
  },
  {
   "cell_type": "raw",
   "id": "6f4443ef-3193-488f-870f-ee9d5c509978",
   "metadata": {},
   "source": [
    "Q3. The __init__ function in Python is a special method that is automatically called when an object of a class is created. It is also known as the constructor method. The __init__ function is used to initialize the attributes of the object when it is created. Say for example:"
   ]
  },
  {
   "cell_type": "code",
   "execution_count": 1,
   "id": "6b6663fd-258a-4e5e-925b-b687e86f82a3",
   "metadata": {},
   "outputs": [
    {
     "name": "stdout",
     "output_type": "stream",
     "text": [
      "Pitbull\n",
      "Brown\n"
     ]
    }
   ],
   "source": [
    "class Dog:\n",
    "    def __init__(self, breed, color):\n",
    "        self.breed = breed\n",
    "        self.color = color\n",
    "\n",
    "dog1 = Dog(\"Pitbull\", \"Brown\")\n",
    "print(dog1.breed)  \n",
    "print(dog1.color) "
   ]
  },
  {
   "cell_type": "raw",
   "id": "a2f59312-0ed1-477c-8c05-d7a4520aa256",
   "metadata": {},
   "source": [
    "In the above example, the __init__ function takes two parameters: breed and color. When an object of the Dog class is created, the __init__ function is automatically called and the values for  breed and color are passed as arguments. The __init__ function then sets the values of the breed and color attributes for the object"
   ]
  },
  {
   "cell_type": "raw",
   "id": "55be44bd-b0fa-4c13-8d32-e5e93b13ccef",
   "metadata": {},
   "source": [
    "Q4. It's important to note that the first parameter of the __init__ function is always self, which refers to the object being created. This allows you to access the attributes and methods of the object within the class."
   ]
  },
  {
   "cell_type": "markdown",
   "id": "761113a4-6657-4db5-a27c-cac5861b4547",
   "metadata": {},
   "source": [
    "Q5. Inheritance is a mechanism in Object-Oriented Programming (OOP) that allows a new class to inherit attributes and methods from an existing class. This allows you to reuse, extend, and modify the attributes and methods of an existing class in a new class.<br>\n",
    "\n",
    "Types of inheritance are:<br>\n",
    "1) Single Inheritance <br>\n",
    "2) Multiple Inheritance<br>\n",
    "3) Multilevel Inheritance<br>\n",
    "4) Hierarchical Inheritance<br>"
   ]
  },
  {
   "cell_type": "markdown",
   "id": "262c94f1-3a55-487a-b981-0d4cd0da518b",
   "metadata": {},
   "source": [
    "1. __Single Inheritance__:\n",
    "Single inheritance is a feature of object-oriented programming in Python where a derived class inherits the properties and behavior of a single parent or base class. In other words, the derived class is built on top of a single parent class, and can access all the attributes and methods of the parent class.<br>\n",
    "When a derived class inherits from a single base class, it automatically inherits all the attributes and methods of the parent class. The derived class can then add new attributes and methods, or it can override the existing attributes and methods of the parent class to create its own behavior.<br>\n",
    "__Example__:"
   ]
  },
  {
   "cell_type": "code",
   "execution_count": 13,
   "id": "895450f4-24eb-41f9-81a9-832f17ffd1d9",
   "metadata": {},
   "outputs": [],
   "source": [
    "# Creating a Parent class\n",
    "class Parent:\n",
    "    def __init__(self,name,age):\n",
    "        self.name=name\n",
    "        self.age=age\n",
    "    def get_details(self):\n",
    "        print(f\"My name is {self.name} and I am {self.age} years old.\")\n",
    "# Creating a Child class        \n",
    "class Child(Parent):\n",
    "              pass"
   ]
  },
  {
   "cell_type": "code",
   "execution_count": 14,
   "id": "2bff0c84-c88a-478a-ae8c-5e5a2211b4af",
   "metadata": {},
   "outputs": [
    {
     "name": "stdout",
     "output_type": "stream",
     "text": [
      "My name is Ajay and I am 30 years old.\n"
     ]
    }
   ],
   "source": [
    "# Creating a object in which child class is inheriting the method and properties of parent class.\n",
    "obj1 = Child(\"Ajay\", 30)\n",
    "obj1.get_details()"
   ]
  },
  {
   "cell_type": "code",
   "execution_count": 5,
   "id": "8b6f2a34-8845-4f53-beca-c413fbd4e8bd",
   "metadata": {},
   "outputs": [
    {
     "name": "stdout",
     "output_type": "stream",
     "text": [
      "30\n"
     ]
    }
   ],
   "source": [
    "print(obj1.age)"
   ]
  },
  {
   "cell_type": "markdown",
   "id": "d1783b8f-cb97-4f0c-a430-6ff5cdde1acc",
   "metadata": {},
   "source": [
    "2. __Multiple Inheritance:__\n",
    "    Multiple inheritance is a feature of object-oriented programming languages that allows a class to inherit from more than one parent class. This means that a subclass can inherit the properties and methods of multiple parent classes. <br>\n",
    "    __Example:__\n",
    "    "
   ]
  },
  {
   "cell_type": "code",
   "execution_count": 17,
   "id": "b3ed7dfa-a569-471a-9bf7-94c99ff98073",
   "metadata": {},
   "outputs": [
    {
     "name": "stdout",
     "output_type": "stream",
     "text": [
      "This is parent1 details\n",
      "This is parent details\n",
      "This is child details\n"
     ]
    }
   ],
   "source": [
    "class Parent1:\n",
    "    def parent1_det(self):\n",
    "        print(\"This is parent1 details\")\n",
    "        \n",
    "class Parent2:\n",
    "    def parent2_det(self):\n",
    "        print(\"This is parent details\")\n",
    "        \n",
    "class Child(Parent1, Parent2):\n",
    "    def child_det(self):\n",
    "        print(\"This is child details\")\n",
    "        \n",
    "obj3= Child() \n",
    "obj3.parent1_det()\n",
    "obj3.parent2_det()\n",
    "obj3.child_det()\n",
    "\n",
    "#This is the example of multiple inherutance in which child class is inherting properties of two parent classes "
   ]
  },
  {
   "cell_type": "markdown",
   "id": "ab59deb9-b2b5-47c1-8d35-126df6e31180",
   "metadata": {},
   "source": [
    "3. __Multilevel Inheritance:__ Multilevel inheritance refers to a child class inheriting from a parent class, which in turn inherits from another parent class."
   ]
  },
  {
   "cell_type": "code",
   "execution_count": 11,
   "id": "d665c37b-6c50-47fb-992f-c04ff1094a7c",
   "metadata": {},
   "outputs": [
    {
     "name": "stdout",
     "output_type": "stream",
     "text": [
      "This is our family\n",
      "Father : Anand kumar\n",
      "Mother : Shobha Kumar\n"
     ]
    }
   ],
   "source": [
    "class Family:\n",
    "    def my_family(self):\n",
    "        print(\"This is our family\")\n",
    "        \n",
    "class Father(Family):\n",
    "    father_name = \"\"\n",
    "    def my_father(self):\n",
    "        print(f\"My father's name is, {self.father_name}\")\n",
    "        \n",
    "class Mother(Family):\n",
    "    mother_name = \"\"\n",
    "    def my_mother(self):\n",
    "        print(f\"My mother's name is, {self.mother_name}\")\n",
    "          \n",
    "class Son(Father,Mother):\n",
    "          def show_parents_det(self):\n",
    "                print(\"Father :\", self.father_name)\n",
    "                print(\"Mother :\", self.mother_name)\n",
    "          \n",
    "Rohan = Son() \n",
    "Rohan.father_name = \"Anand kumar\"\n",
    "Rohan.mother_name = \"Shobha Kumar\"\n",
    "Rohan.my_family()\n",
    "Rohan.show_parents_det()\n",
    "\n",
    "\n",
    "     \n",
    "    "
   ]
  },
  {
   "cell_type": "markdown",
   "id": "50a5e89f-7242-4997-8d79-b652948cf950",
   "metadata": {},
   "source": [
    "4. __Hierarchical Inheritance:__\n",
    "Hierarchical inheritance refers to multiple child classes inheriting from a single parent class."
   ]
  },
  {
   "cell_type": "code",
   "execution_count": 19,
   "id": "319ef4b1-1321-491c-a305-473c83f74631",
   "metadata": {},
   "outputs": [
    {
     "name": "stdout",
     "output_type": "stream",
     "text": [
      "I am a Cat\n",
      "I am a Dog\n"
     ]
    }
   ],
   "source": [
    "class Animal:\n",
    "    def __init__(self):\n",
    "        self.species = \"Animal\"\n",
    "        \n",
    "    def show_species(self):\n",
    "        print(\"I am a\", self.species)\n",
    "    \n",
    "class Cat(Animal):\n",
    "    def __init__(self):\n",
    "        super().__init__() #The super() function is used to give access to methods and properties of a parent or sibling class\n",
    "        self.species = \"Cat\"\n",
    "        \n",
    "class Dog(Animal):\n",
    "    def __init__(self):\n",
    "        super().__init__()\n",
    "        self.species = \"Dog\"\n",
    "        \n",
    "c = Cat()\n",
    "c.show_species()\n",
    "\n",
    "d = Dog()\n",
    "d.show_species()\n",
    "\n",
    "    \n",
    "    \n",
    "    "
   ]
  },
  {
   "cell_type": "code",
   "execution_count": null,
   "id": "cde1fc0d-f482-47f2-8a5f-2d24bba479bc",
   "metadata": {},
   "outputs": [],
   "source": [
    "#Completed"
   ]
  }
 ],
 "metadata": {
  "kernelspec": {
   "display_name": "Python 3 (ipykernel)",
   "language": "python",
   "name": "python3"
  },
  "language_info": {
   "codemirror_mode": {
    "name": "ipython",
    "version": 3
   },
   "file_extension": ".py",
   "mimetype": "text/x-python",
   "name": "python",
   "nbconvert_exporter": "python",
   "pygments_lexer": "ipython3",
   "version": "3.10.8"
  }
 },
 "nbformat": 4,
 "nbformat_minor": 5
}
