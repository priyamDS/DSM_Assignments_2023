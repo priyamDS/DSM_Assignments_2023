{
 "cells": [
  {
   "cell_type": "raw",
   "id": "f4650ce0-78ec-421b-82ed-f183ea7e8074",
   "metadata": {},
   "source": [
    "Q1. Create a function which will take a list as an argument and return the product of all the numbers\n",
    "after creating a flat list.\n",
    "Use the below-given list as an argument for your function.\n",
    "list1 = [1,2,3,4, [44,55,66, True], False, (34,56,78,89,34), {1,2,3,3,2,1}, {1:34, \"key2\": [55, 67, 78, 89], 4: (45,\n",
    "22, 61, 34)}, [56, 'data science'], 'Machine Learning']\n",
    "Note: you must extract numeric keys and values of the dictionary also."
   ]
  },
  {
   "cell_type": "code",
   "execution_count": 26,
   "id": "e96bf32e-8830-4d84-acfc-7e6b9446be2d",
   "metadata": {},
   "outputs": [],
   "source": [
    "def product(a):\n",
    "    n=[]\n",
    "    for i in a:\n",
    "        if type(i)== list:\n",
    "            for j in i:\n",
    "                if type(j)== int:\n",
    "                    n.append(j)\n",
    "        elif type(i)== int:\n",
    "                n.append(i)\n",
    "        elif type(i) == tuple:\n",
    "            for j in i:\n",
    "                if type(j) == int:\n",
    "                    n.append(j)\n",
    "        elif type(i) == dict:\n",
    "            for key,value in i.items():\n",
    "            \n",
    "                if type(key) == int:\n",
    "                    n.append(key)\n",
    "                elif type(value) == list:\n",
    "                    for k in value:\n",
    "                        if type(k) == int:\n",
    "                            n.append(k)\n",
    "                  \n",
    "                \n",
    "            \n",
    "        elif type(i) == set:\n",
    "            for j in i:\n",
    "                if type(j) == int:\n",
    "                    n.append(j)         \n",
    "               \n",
    "                \n",
    "    prod = 1\n",
    "    for element in n:\n",
    "        prod = prod * element\n",
    "    return prod \n",
    "        \n",
    "\n",
    "    \n",
    "    \n",
    "    "
   ]
  },
  {
   "cell_type": "code",
   "execution_count": 27,
   "id": "fb8c3830-8d3b-483a-ba73-5990a3d17e0f",
   "metadata": {},
   "outputs": [
    {
     "name": "stdout",
     "output_type": "stream",
     "text": [
      "2013730282081706885067571200\n"
     ]
    }
   ],
   "source": [
    "list1 = [1,2,3,4, [44,55,66, True], False, (34,56,78,89,34), {1,2,3,3,2,1}, {1:34, \"key2\": [55, 67, 78, 89], 4: (45,\n",
    "22, 61, 34)}, [56, 'data science'], 'Machine Learning']\n",
    "print(product(list1))"
   ]
  },
  {
   "cell_type": "code",
   "execution_count": null,
   "id": "a7e42aa8-c6dd-453d-b80f-2a6fd50bd09c",
   "metadata": {},
   "outputs": [],
   "source": [
    "# I am facing problem in extracting tuple from a dictionary element in the given list"
   ]
  },
  {
   "cell_type": "code",
   "execution_count": null,
   "id": "5fc5f227-7094-45d1-bf74-63cdfc452eae",
   "metadata": {},
   "outputs": [],
   "source": []
  }
 ],
 "metadata": {
  "kernelspec": {
   "display_name": "Python 3 (ipykernel)",
   "language": "python",
   "name": "python3"
  },
  "language_info": {
   "codemirror_mode": {
    "name": "ipython",
    "version": 3
   },
   "file_extension": ".py",
   "mimetype": "text/x-python",
   "name": "python",
   "nbconvert_exporter": "python",
   "pygments_lexer": "ipython3",
   "version": "3.10.8"
  }
 },
 "nbformat": 4,
 "nbformat_minor": 5
}
