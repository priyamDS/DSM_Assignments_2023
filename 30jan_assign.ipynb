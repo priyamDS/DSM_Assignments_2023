{
 "cells": [
  {
   "cell_type": "markdown",
   "id": "c80d5f2b-f9c1-46ee-be6f-96356969ff28",
   "metadata": {},
   "source": [
    "# Assignment - 30 Jan 2023"
   ]
  },
  {
   "cell_type": "markdown",
   "id": "4fdef986-165d-4c33-9056-96e90b2a1805",
   "metadata": {},
   "source": [
    "## Question 1."
   ]
  },
  {
   "cell_type": "code",
   "execution_count": 11,
   "id": "2cedfb91-b8b6-486f-90ce-6e3f96cd00d7",
   "metadata": {},
   "outputs": [
    {
     "name": "stdin",
     "output_type": "stream",
     "text": [
      "Enter your percentage of marks:  76.98\n"
     ]
    },
    {
     "name": "stdout",
     "output_type": "stream",
     "text": [
      "You got grade: C\n"
     ]
    }
   ],
   "source": [
    "\n",
    "marks = float(input(\"Enter your percentage of marks: \"))\n",
    "\n",
    "if marks > 90:\n",
    "    print(\"You got grade: A\")\n",
    "if marks > 80 and marks <= 90:\n",
    "    print(\"You got grade: B\") \n",
    "if marks > 60 and marks <= 80:\n",
    "    print(\"You got grade: C\")\n",
    "if marks < 60: \n",
    "    print(\"You got grade: D\")"
   ]
  },
  {
   "cell_type": "markdown",
   "id": "484a9bbe-c9b6-4e19-b747-c113adc56520",
   "metadata": {},
   "source": [
    "## Question 2."
   ]
  },
  {
   "cell_type": "code",
   "execution_count": 6,
   "id": "2a33f672-1696-4cb5-b0b0-0b297ede2230",
   "metadata": {},
   "outputs": [
    {
     "name": "stdin",
     "output_type": "stream",
     "text": [
      "Enter the cost price of a car:  234002\n"
     ]
    },
    {
     "name": "stdout",
     "output_type": "stream",
     "text": [
      "Road tax of the car is:  35100.299999999996\n"
     ]
    }
   ],
   "source": [
    "cost_price= int(input(\"Enter the cost price of a car: \"))\n",
    "if cost_price > 100000:\n",
    "                road_tax = cost_price * (.15)\n",
    "if cost_price > 50000 and  cost_price <= 100000:\n",
    "                road_tax =  cost_price * (.10)\n",
    "if  cost_price <= 50000:\n",
    "                road_tax =  cost_price * (.05)\n",
    "print(\"Road tax of the car is: \", road_tax)\n",
    "                \n"
   ]
  },
  {
   "cell_type": "markdown",
   "id": "89cd5554-8e28-4608-8654-25584e439faf",
   "metadata": {},
   "source": [
    "## Question 3."
   ]
  },
  {
   "cell_type": "code",
   "execution_count": 7,
   "id": "fdc245a6-2446-4192-9304-b392c3f1d4bd",
   "metadata": {},
   "outputs": [
    {
     "name": "stdin",
     "output_type": "stream",
     "text": [
      "Enter the name of the city:  Delhi\n"
     ]
    },
    {
     "name": "stdout",
     "output_type": "stream",
     "text": [
      "Famous monument is: Red Fort\n"
     ]
    }
   ],
   "source": [
    "city = input(\"Enter the name of the city: \")\n",
    "if city == \"Delhi\":\n",
    "    print(\"Famous monument is: Red Fort\")\n",
    "if city == \"Agra\":\n",
    "    print(\"Famous monument is: Taj Mahal\")\n",
    "if city == \"Jaipur\":\n",
    "    print(\"Famous monument is: Jal Mahal\")"
   ]
  },
  {
   "cell_type": "markdown",
   "id": "158df9a4-4a50-49ad-aa8d-7e5248634b17",
   "metadata": {},
   "source": [
    "## Question 4.\n",
    "Check how many times a given number is divided by 3 before it is less than or equal to 10. "
   ]
  },
  {
   "cell_type": "code",
   "execution_count": 3,
   "id": "20d80eb9-c4c8-44aa-a5fa-00c19b031217",
   "metadata": {},
   "outputs": [],
   "source": [
    "def division(n):\n",
    "    count = 0\n",
    "    while n >10:\n",
    "        n = n/3\n",
    "        count +=1\n",
    "    return count\n",
    "\n"
   ]
  },
  {
   "cell_type": "markdown",
   "id": "c3b0ba82-fe42-4e1e-a240-ab4ac9a3d4f9",
   "metadata": {},
   "source": [
    "## Question 5.\n",
    "In Python, the while loop is used when you need to repeatedly execute a block of code as long as a certain condition is met.\n",
    "The code inside the while loop will be executed repeatedly until the condition becomes false. When the condition is false, the while loop will terminate, and the program will continue with the next line of code after the loop.\n",
    "The basic syntax for a while loop is as follows:\n",
    "\n",
    "while condition:\n",
    "    # statement"
   ]
  },
  {
   "cell_type": "code",
   "execution_count": 3,
   "id": "f5a985dc-badf-4fbe-aac0-95fbb6c2ef9c",
   "metadata": {},
   "outputs": [
    {
     "name": "stdin",
     "output_type": "stream",
     "text": [
      "Enter n:  676\n"
     ]
    },
    {
     "name": "stdout",
     "output_type": "stream",
     "text": [
      "19\n"
     ]
    }
   ],
   "source": [
    "#Example: while loop to print the sum of digits of a given number:\n",
    "\n",
    "n = int(input(\"Enter n: \"))\n",
    "sum = 0\n",
    "while n!=0:\n",
    "    sum = sum + n % 10\n",
    "    n = int(n/10)\n",
    "print(sum)\n",
    "\n",
    "\n",
    "\n",
    "\n"
   ]
  },
  {
   "cell_type": "markdown",
   "id": "7bdb401d-38fa-4f5e-ad55-bee1e6205a1a",
   "metadata": {},
   "source": [
    "## Question 6\n",
    "Use nested while to print three different patterns"
   ]
  },
  {
   "cell_type": "code",
   "execution_count": 2,
   "id": "081fcbef-69ea-4832-b3cf-f66a2357c3c0",
   "metadata": {},
   "outputs": [
    {
     "name": "stdout",
     "output_type": "stream",
     "text": [
      "* \n",
      "* * \n",
      "* * * \n",
      "* * * * \n",
      "* * * * * \n"
     ]
    }
   ],
   "source": [
    "#First Pattern\n",
    "i=1\n",
    "while i<=5:\n",
    "    j=1\n",
    "    while j<=i:\n",
    "        print(\"*\",end=\" \")\n",
    "        j+=1\n",
    "        \n",
    "    print(\"\")\n",
    "    i+=1"
   ]
  },
  {
   "cell_type": "code",
   "execution_count": 11,
   "id": "70ce2ee8-a11d-4426-b07a-fb62f2794522",
   "metadata": {},
   "outputs": [
    {
     "name": "stdin",
     "output_type": "stream",
     "text": [
      "Enter the number of rows:  5\n"
     ]
    },
    {
     "name": "stdout",
     "output_type": "stream",
     "text": [
      "    * \n",
      "   * * \n",
      "  * * * \n",
      " * * * * \n",
      "* * * * * \n"
     ]
    }
   ],
   "source": [
    "# Second Pattern\n",
    "def pattern2(n):\n",
    "   i = 1\n",
    "   while i<=n:\n",
    "      # printing stars\n",
    "      print(\" \"*(n-i) + \"* \" * i)\n",
    "      i+=1 \n",
    " \n",
    "# take inputs\n",
    "n = int(input('Enter the number of rows: '))\n",
    "\n",
    "# calling function\n",
    "pattern2(n)\n"
   ]
  },
  {
   "cell_type": "code",
   "execution_count": 9,
   "id": "fb3b9ae4-eb1b-4ec8-9912-659ee40b46c4",
   "metadata": {
    "tags": []
   },
   "outputs": [
    {
     "name": "stdin",
     "output_type": "stream",
     "text": [
      "Enter the number of rows:  5\n"
     ]
    },
    {
     "name": "stdout",
     "output_type": "stream",
     "text": [
      "*****\n",
      " ****\n",
      "  ***\n",
      "   **\n",
      "    *\n"
     ]
    }
   ],
   "source": [
    "def pattern3(n):\n",
    "    i = 5\n",
    "    while i!=0:\n",
    "        print(\" \"*(n-i) + \"*\" * i)\n",
    "        i-=1\n",
    "        \n",
    "n = int(input('Enter the number of rows: '))\n",
    "\n",
    "pattern3(n)\n"
   ]
  },
  {
   "cell_type": "markdown",
   "id": "74dcea93-f30b-4fe9-a9fc-05abc25bbd84",
   "metadata": {},
   "source": [
    "## Question 7 & 8.\n",
    "Reverse a while loop to display numbers from 10 to 1."
   ]
  },
  {
   "cell_type": "code",
   "execution_count": 1,
   "id": "7109fa5b-7cc2-4750-8239-2352f549d8db",
   "metadata": {},
   "outputs": [
    {
     "name": "stdout",
     "output_type": "stream",
     "text": [
      "10\n",
      "9\n",
      "8\n",
      "7\n",
      "6\n",
      "5\n",
      "4\n",
      "3\n",
      "2\n",
      "1\n"
     ]
    }
   ],
   "source": [
    "i = 10\n",
    "while i>=1:\n",
    "    print(i)\n",
    "    i= i-1"
   ]
  },
  {
   "cell_type": "code",
   "execution_count": null,
   "id": "9d6faeed-fb72-4587-80f3-fb5be9d7b21d",
   "metadata": {},
   "outputs": [],
   "source": [
    "#Completed"
   ]
  }
 ],
 "metadata": {
  "kernelspec": {
   "display_name": "Python 3 (ipykernel)",
   "language": "python",
   "name": "python3"
  },
  "language_info": {
   "codemirror_mode": {
    "name": "ipython",
    "version": 3
   },
   "file_extension": ".py",
   "mimetype": "text/x-python",
   "name": "python",
   "nbconvert_exporter": "python",
   "pygments_lexer": "ipython3",
   "version": "3.10.8"
  }
 },
 "nbformat": 4,
 "nbformat_minor": 5
}
