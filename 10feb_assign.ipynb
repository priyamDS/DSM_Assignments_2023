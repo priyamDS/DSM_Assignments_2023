{
 "cells": [
  {
   "cell_type": "markdown",
   "id": "b80ad708-e235-4a5a-89a1-505c96f1ccbb",
   "metadata": {},
   "source": [
    "#### Q1. Which function is used to open a file? What are the different modes of opening a file? Explain each mode of file opening.\n",
    "\n",
    "\n",
    "\n",
    "\n",
    "\n",
    "\n",
    "\n",
    "\n"
   ]
  },
  {
   "cell_type": "markdown",
   "id": "f637e7b4-d4df-4d35-89b6-9fcf8c44ba4f",
   "metadata": {},
   "source": [
    "Ans 1. open() function is the inbuilt function that is used to open a file. While opening a we have to specify a filename and the mode<br>\n",
    "> func = open('filename' , 'mode')<br>\n",
    "\n",
    "The different modes of opening a file are:<br>\n",
    "\n",
    "r: Opens the file in read-only mode. Starts reading from the beginning of the file and is the default mode for the open() function.<br>\n",
    "rb: Opens the file as read-only in binary format and starts reading from the beginning of the file. While binary format can be used for different purposes, it is usually used when dealing with things like images, videos, etc.<br>\n",
    "r+: Opens a file for reading and writing, placing the pointer at the beginning of the file.<br>\n",
    "w: Opens in write-only mode. The pointer is placed at the beginning of the file and this will overwrite any existing file with the same name. It will create a new file if one with the same name doesn't exist.<br>\n",
    "wb: Opens a write-only file in binary mode.<br>\n",
    "w+: Opens a file for writing and reading.<br>\n",
    "wb+: Opens a file for writing and reading in binary mode.<br>\n",
    "a: Opens a file for appending new information to it. The pointer is placed at the end of the file. A new file is created if one with the same name doesn't exist.<br>\n",
    "ab: Opens a file for appending in binary mode.<br>\n",
    "a+: Opens a file for both appending and reading.<br>\n",
    "ab+: Opens a file for both appending and reading in binary mode.<br>\n",
    "\n"
   ]
  },
  {
   "cell_type": "code",
   "execution_count": null,
   "id": "824d5d81-198d-4c2f-b20d-bdbcab1e6c4c",
   "metadata": {},
   "outputs": [],
   "source": []
  },
  {
   "cell_type": "markdown",
   "id": "0396222b-32e2-4df1-9f0e-fcecaf91d1e5",
   "metadata": {
    "tags": []
   },
   "source": [
    "####  Q2. Why close() function is used? Why is it important to close a file?"
   ]
  },
  {
   "cell_type": "markdown",
   "id": "4ea18efe-3249-4e2a-9f25-a8d3a60d508a",
   "metadata": {},
   "source": [
    "The close() function in Python, used to close a file. That is, when a file is opened using open() function and all the operation has been done on the file, then the file object or handler must be closed using the close() function to break the linkage of file from the program.<br>\n",
    "It is important to close a file because sometimes changes made to the file is not visible due to buffering issues until we close the file. It minimizes the amount of user virtual machine resources required and helps keep shared files and directories available for other users.<br>\n",
    "Close function is used to free up the memory space required by the file; this method is when there is no longer need for the file or if we want to close the entire file and want to open the file in a different mode."
   ]
  },
  {
   "cell_type": "markdown",
   "id": "9f74d443-4857-401f-a6b2-0192affe5424",
   "metadata": {},
   "source": [
    "#### Q3. Write a python program to create a text file. Write ‘I want to become a Data Scientist’ in that file. Then close the file. Open this file and read the content of the file.\n"
   ]
  },
  {
   "cell_type": "code",
   "execution_count": 5,
   "id": "58a8dc77-9b22-4d6f-a0ca-85db6c785b97",
   "metadata": {},
   "outputs": [
    {
     "name": "stdout",
     "output_type": "stream",
     "text": [
      "I want to becaome a Data Scientist\n"
     ]
    }
   ],
   "source": [
    "f = open('file.txt','w')\n",
    "f.write('I want to becaome a Data Scientist')\n",
    "f.close()\n",
    "\n",
    "#Now opening a file that we have created\n",
    "f= open('file.txt','r')\n",
    "print(f.read())\n"
   ]
  },
  {
   "cell_type": "markdown",
   "id": "b80ad075-a4f2-4acf-bd79-929b98c13780",
   "metadata": {},
   "source": [
    "#### Q4. Explain the following with python code: read(), readline() and readlines()."
   ]
  },
  {
   "cell_type": "markdown",
   "id": "d625b8b2-bccd-4156-b17e-d079b93f3026",
   "metadata": {},
   "source": [
    "The read() method reads the entire file and returns it as a string. <br>\n",
    "The readline() method reads one line at a time from the file.  <br>\n",
    "The readlines() method reads all the lines of the file and returns them as a list of strings. Each string represents a line of the file. <br>\n",
    "\n",
    "These methods can be explained with the help of example code in the following way:\n"
   ]
  },
  {
   "cell_type": "code",
   "execution_count": 2,
   "id": "f1124c46-5d3d-4525-bbcc-8179df786f95",
   "metadata": {},
   "outputs": [
    {
     "name": "stdout",
     "output_type": "stream",
     "text": [
      "I want to becaome a Data Scientist\n",
      "This is the Data Science Masters class\n",
      "This is the Data Science Masters class\n",
      "You are watching on PWSKILLS\n"
     ]
    }
   ],
   "source": [
    "f = open('file.txt','a')\n",
    "f.write('\\nThis is the Data Science Masters class')\n",
    "f.write('\\nYou are watching on PWSKILLS')\n",
    "f.close()\n",
    "\n",
    "#Now opening a file that we have created\n",
    "f= open('file.txt','r')\n",
    "print(f.read())"
   ]
  },
  {
   "cell_type": "code",
   "execution_count": 3,
   "id": "7c3f5d1c-e9b6-40c7-8447-c250300eea86",
   "metadata": {},
   "outputs": [
    {
     "name": "stdout",
     "output_type": "stream",
     "text": [
      "I want to becaome a Data Scientist\n",
      "\n"
     ]
    }
   ],
   "source": [
    "f= open('file.txt','r')\n",
    "print(f.readline())"
   ]
  },
  {
   "cell_type": "code",
   "execution_count": 4,
   "id": "2bfb1b16-eca2-468f-ad27-e7e95cc254e1",
   "metadata": {},
   "outputs": [
    {
     "name": "stdout",
     "output_type": "stream",
     "text": [
      "['I want to becaome a Data Scientist\\n', 'This is the Data Science Masters class\\n', 'This is the Data Science Masters class\\n', 'You are watching on PWSKILLS']\n"
     ]
    }
   ],
   "source": [
    "f= open('file.txt','r')\n",
    "print(f.readlines())"
   ]
  },
  {
   "cell_type": "markdown",
   "id": "e74cb09c-7c66-4d48-8944-4dee3a4d1882",
   "metadata": {},
   "source": [
    "####  Q5. Explain why with statement is used with open(). What is the advantage of using with statement and open() together?"
   ]
  },
  {
   "cell_type": "markdown",
   "id": "6cbd8c5b-059b-4cb1-bd6e-a3fcabf02f60",
   "metadata": {},
   "source": [
    "The with statement in Python is used with the open() function to handle files efficiently and safely.\n",
    "\n",
    "When you use the with statement with the open() function, you don't have to worry about closing the file once you are done with it. The with statement automatically takes care of closing the file once the block of code inside the with statement is executed, whether that code finishes execution normally or raises an exception.\n",
    "\n",
    "The advantage of using the with statement with open() is that it helps to prevent resource leaks, where resources like file handles are not properly released after use. This is particularly important when working with large files or when working with many files in succession.\n",
    "\n",
    "Overall, using the with statement with open() is a best practice for handling files in Python, as it helps to ensure that your code is efficient, safe, and free of resource leaks.\n",
    "\n",
    "Example:"
   ]
  },
  {
   "cell_type": "code",
   "execution_count": 3,
   "id": "26cb8cf9-708c-41a8-8a58-925e838c3444",
   "metadata": {},
   "outputs": [
    {
     "name": "stdout",
     "output_type": "stream",
     "text": [
      "This is Data Science Masters class\n"
     ]
    }
   ],
   "source": [
    "#Opwning and writing in a file\n",
    "with open('file1.txt', 'w') as f1:\n",
    "    f1.write('This is Data Science Masters class')\n",
    "\n",
    "#Now reading a file    \n",
    "with open('file1.txt', 'r') as f1:\n",
    "    print(f1.read())"
   ]
  },
  {
   "cell_type": "markdown",
   "id": "751784b8-c88c-41b9-a5f3-72e63f09d0c9",
   "metadata": {},
   "source": [
    "####  Q6. Explain the write() and writelines() functions. Give a suitable example."
   ]
  },
  {
   "cell_type": "markdown",
   "id": "e153d605-1b6d-4c76-b82d-3e471a476c33",
   "metadata": {},
   "source": [
    "The write() function is used to write a single string of data to a file. It takes one argument, which is the string to be written, and writes it to the file at the current position. If the file is opened in text mode, the string should be a Unicode string, whereas in binary mode it should be a bytes object. The write() function returns the number of characters (or bytes) written to the file.\n",
    "\n",
    "The writelines() function, on the other hand, is used to write a sequence of strings to a file. It takes one argument, which is an iterable of strings, and writes each string to the file at the current position. If the file is opened in text mode, each string should be a Unicode string, whereas in binary mode they should be bytes objects. The writelines() function does not add any line separators between the strings, so you need to manually add them if necessary."
   ]
  },
  {
   "cell_type": "code",
   "execution_count": 6,
   "id": "6e7dbdf6-9f24-4992-bb44-e8eba9988b8b",
   "metadata": {},
   "outputs": [
    {
     "name": "stdout",
     "output_type": "stream",
     "text": [
      "Hello, world!\n"
     ]
    }
   ],
   "source": [
    "with open(\"output.txt\", \"w\") as f2:\n",
    "    f2.write(\"Hello, world!\")\n",
    "with open(\"output.txt\", \"r\") as f2:\n",
    "    print(f2.read())"
   ]
  },
  {
   "cell_type": "code",
   "execution_count": 7,
   "id": "5af78d37-37b5-47e6-a6c2-49948a0543f6",
   "metadata": {},
   "outputs": [
    {
     "name": "stdout",
     "output_type": "stream",
     "text": [
      "Hello\n",
      "world\n",
      "how\n",
      "are\n",
      "you?\n",
      "\n"
     ]
    }
   ],
   "source": [
    "lines = [\"Hello\", \"world\", \"how\", \"are\", \"you?\"]\n",
    "with open(\"examp.txt\", \"w\") as f3:\n",
    "    f3.writelines(line + \"\\n\" for line in lines)\n",
    "    \n",
    "with open(\"examp.txt\", \"r\") as f3:\n",
    "    print(f3.read())"
   ]
  },
  {
   "cell_type": "code",
   "execution_count": 8,
   "id": "45c8f204-5f8f-4a13-a1ff-7d1c421729f7",
   "metadata": {},
   "outputs": [],
   "source": [
    "#completed"
   ]
  },
  {
   "cell_type": "code",
   "execution_count": null,
   "id": "89058e17-e5fe-4760-85b0-125761289f00",
   "metadata": {},
   "outputs": [],
   "source": []
  }
 ],
 "metadata": {
  "kernelspec": {
   "display_name": "Python 3 (ipykernel)",
   "language": "python",
   "name": "python3"
  },
  "language_info": {
   "codemirror_mode": {
    "name": "ipython",
    "version": 3
   },
   "file_extension": ".py",
   "mimetype": "text/x-python",
   "name": "python",
   "nbconvert_exporter": "python",
   "pygments_lexer": "ipython3",
   "version": "3.10.8"
  }
 },
 "nbformat": 4,
 "nbformat_minor": 5
}
