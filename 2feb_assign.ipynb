{
 "cells": [
  {
   "cell_type": "markdown",
   "id": "674dbeb8-7ec4-453d-ac5b-fddd8da74201",
   "metadata": {},
   "source": [
    "# Assignment- 2-Feb-2023"
   ]
  },
  {
   "cell_type": "markdown",
   "id": "ad58d00c-0991-433e-a747-4a12cbe23470",
   "metadata": {},
   "source": [
    "__Q1__.  What are the characteristics of the tuples? Is tuple immutable?"
   ]
  },
  {
   "cell_type": "markdown",
   "id": "6c7d116f-467f-45ec-8671-a2323f01633e",
   "metadata": {},
   "source": [
    "Tuples are one of the data types in python programming language just like lists, set and dictionary. Tuples are enclosed in paranthesis.<br>\n",
    "The characteristics of tuples in Python are:\n",
    "\n",
    "-- Ordered: Tuples are ordered collections, which means that the items in a tuple have a specific order.\n",
    "\n",
    "-- Immutable: Tuples are immutable, which means that once a tuple is created, its elements cannot be changed. You cannot add, remove, or modify elements in a tuple.\n",
    "\n",
    "-- Heterogeneous: Tuples can contain elements of different data types, including numbers, strings, lists, etc.\n",
    "\n",
    "-- Indexed: Tuples are indexed, which means that you can access individual elements of a tuple using their index.\n",
    "\n",
    "-- Iterable: Tuples are iterable, which means that you can loop over the elements of a tuple using a for loop.\n",
    "\n",
    "-- hashable: Tuples can be used as keys in dictionaries because they are hashable.\n",
    "\n",
    "In conclusion, tuples are ordered, immutable, heterogeneous, indexed, iterable and hashable."
   ]
  },
  {
   "cell_type": "markdown",
   "id": "1e788fde-8346-476c-b5b6-e9e28900a668",
   "metadata": {},
   "source": [
    "__Q2__. What are the two tuple methods in python? Give an example of each method. Give a reason why\n",
    " tuples have only two in-built methods as compared to Lists."
   ]
  },
  {
   "cell_type": "markdown",
   "id": "387c4587-3f04-4551-a277-24c9af9e9f48",
   "metadata": {},
   "source": [
    "The two tuple method in python are: count() and index(). <br>\n",
    "1. count(): It is used to return the number of times a specified value occurs in the tuple. <br>\n",
    "- Syntax: tuple.count(element) <br>\n",
    "2. index(): It is used to return the index of specified value in the tuple.<br>\n",
    "- Syntax: tuple.index(element,start,end)\n",
    "\n",
    "__Example__:\n",
    "\n",
    "\n",
    "                                                                    "
   ]
  },
  {
   "cell_type": "code",
   "execution_count": 3,
   "id": "b3587718-0fee-4e53-aec3-57e5614ee7e0",
   "metadata": {},
   "outputs": [
    {
     "name": "stdout",
     "output_type": "stream",
     "text": [
      "Count of 4 in tuple list: 2\n",
      "Index of 8 in tuple list: 6\n",
      "First occurence of 8 after 4th index in tuple list: 2\n"
     ]
    }
   ],
   "source": [
    "t1 = (1,2,4,5,4,6,8,9,7)\n",
    "test1 = t1.count(4)\n",
    "test2 = t1.index(8)\n",
    "test3 = t1.index(8,4)\n",
    "\n",
    "print(\"Count of 4 in tuple list:\", test1)\n",
    "print(\"Index of 8 in tuple list:\", test2)\n",
    "print(\"First occurence of 8 after 4th index in tuple list:\", test)\n"
   ]
  },
  {
   "cell_type": "markdown",
   "id": "64bda823-d59a-454b-a6e1-1184d2e06b95",
   "metadata": {},
   "source": [
    "Tuples in Python have only two built-in methods, count and index, because tuples are immutable and their elements cannot be modified. However, if you need to perform more complex operations on tuples, you can always convert them to other data structures, such as lists, or use built-in functions like len, sum, min, and max."
   ]
  },
  {
   "cell_type": "markdown",
   "id": "6d9393a8-7d1e-46d7-a5ab-bd433c27ba7d",
   "metadata": {},
   "source": [
    "__Q3.__ Which collection datatypes in python do not allow duplicate items? Write a code using a set to remove\n",
    "duplicates from the given list.<br>\n",
    "List = [1, 1, 1, 2, 1, 3, 1, 4, 2, 1, 2, 2, 2, 3, 2, 4, 3, 1, 3, 2, 3, 3, 3, 4, 4, 1, 4, 2, 4, 3, 4, 4]"
   ]
  },
  {
   "cell_type": "markdown",
   "id": "02261e87-b709-4537-855e-c6aa082ce016",
   "metadata": {},
   "source": [
    "Set is another type of datatype in python that do not duplicate items. It is a collection that is unorderes, unchangeable and unindexed.Dictionary also do not allow duplicates<br>"
   ]
  },
  {
   "cell_type": "code",
   "execution_count": 3,
   "id": "91df9826-b68d-41b0-b840-8935ce1fdc5c",
   "metadata": {},
   "outputs": [
    {
     "name": "stdout",
     "output_type": "stream",
     "text": [
      "{1, 2, 3, 4}\n"
     ]
    }
   ],
   "source": [
    "List = [1, 1, 1, 2, 1, 3, 1, 4, 2, 1, 2, 2, 2, 3, 2, 4, 3, 1, 3, 2, 3, 3, 3, 4, 4, 1, 4, 2, 4, 3, 4, 4]\n",
    "my_set= set()\n",
    "for i in List:\n",
    "    my_set.add(i)\n",
    "\n",
    "print(my_set)"
   ]
  },
  {
   "cell_type": "markdown",
   "id": "5d89c0f0-3e24-4bd1-90a7-7848876b1825",
   "metadata": {},
   "source": [
    "__Q4__. Explain the difference between the union() and update() methods for a set. Give an example of\n",
    "each method."
   ]
  },
  {
   "cell_type": "markdown",
   "id": "2a0c90f3-e459-417b-baf6-f182b2a328e2",
   "metadata": {
    "tags": []
   },
   "source": [
    "1. union() method: The union() method returns a set that contains all the elements from both sets, without any duplicates. In other words, it performs a union operation on two sets and returns a new set that contains all unique elements from both sets.<br>\n",
    "Example:"
   ]
  },
  {
   "cell_type": "code",
   "execution_count": 4,
   "id": "9a7302e5-317b-4d75-abd7-37eeaa49df8e",
   "metadata": {},
   "outputs": [
    {
     "name": "stdout",
     "output_type": "stream",
     "text": [
      "{2, 3, 4, 5, 6, 7, 8}\n"
     ]
    }
   ],
   "source": [
    "set1 = {2,3,4,5}\n",
    "set2 = {6,7,8,4}\n",
    "set3 = set1.union(set2)\n",
    "print(set3)"
   ]
  },
  {
   "cell_type": "markdown",
   "id": "f13d9695-a2d2-4987-a4a9-03cf32625d8b",
   "metadata": {},
   "source": [
    "2. update() method: The update() method updates the original set with the elements from another set. This method does not return a new set, but instead modifies the original set by adding all unique elements from the other set.\n",
    "Example:"
   ]
  },
  {
   "cell_type": "code",
   "execution_count": 5,
   "id": "1c2e1051-67dc-4f12-b551-6071eb226cc8",
   "metadata": {},
   "outputs": [
    {
     "name": "stdout",
     "output_type": "stream",
     "text": [
      "{1, 3, 4, 5, 6, 9}\n"
     ]
    }
   ],
   "source": [
    "set4 = {4,5,6,3}\n",
    "set5 = {1,3,6,9}\n",
    "set4.update(set5)\n",
    "print(set4)"
   ]
  },
  {
   "cell_type": "markdown",
   "id": "f6b1b867-43c1-4966-aea4-654bf6b0a9f5",
   "metadata": {},
   "source": [
    "__Q5__. What is a dictionary? Give an example. Also, state whether a dictionary is ordered or unordered."
   ]
  },
  {
   "cell_type": "markdown",
   "id": "5a70c16f-eb49-45b6-aa73-afabbc57c60c",
   "metadata": {},
   "source": [
    "Dictionary is one of the data types and it is used to store data values in key:value pair format. A dictionary is a collection which is ordered*, changeable and do not allow duplicates.<br>\n",
    "Example:"
   ]
  },
  {
   "cell_type": "code",
   "execution_count": 7,
   "id": "80deaf65-ead5-48c1-ae56-23eb06802888",
   "metadata": {},
   "outputs": [
    {
     "name": "stdout",
     "output_type": "stream",
     "text": [
      "{'Name': 'Ajay', 'Designation': 'Data Scientist', 'Salary': 50000}\n"
     ]
    }
   ],
   "source": [
    "emp = {\n",
    "\"Name\" : \"Ajay\",\n",
    "\"Designation\" : \"Data Scientist\",\n",
    "\"Salary\" : 50000\n",
    "}\n",
    "print(emp)\n",
    "\n",
    "#Dictionaries are ordered data types"
   ]
  },
  {
   "cell_type": "markdown",
   "id": "41a1d92d-6399-4996-8ce8-ec0b73cdd1a6",
   "metadata": {},
   "source": [
    "__Q6__. Can we create a nested dictionary? If so, please give an example by creating a simple one-level\n",
    "nested dictionary."
   ]
  },
  {
   "cell_type": "markdown",
   "id": "bddfc263-30d2-49b4-82b7-a9cb4318f7f4",
   "metadata": {},
   "source": [
    "Yes, it is possible to create a nested dictionary in Python. A nested dictionary is a dictionary that contains another dictionary as its value. You can create a simple one-level nested dictionary by creating a dictionary and assigning another dictionary as the value of one of its keys.<br>\n",
    "* Example:-"
   ]
  },
  {
   "cell_type": "code",
   "execution_count": 9,
   "id": "1ea32dc3-3b5f-4dcc-9782-f15cc8656a27",
   "metadata": {},
   "outputs": [
    {
     "data": {
      "text/plain": [
       "'Gurgaon'"
      ]
     },
     "execution_count": 9,
     "metadata": {},
     "output_type": "execute_result"
    }
   ],
   "source": [
    "dict1 = {\n",
    "\"Name\" : \"Ankur\",\n",
    "\"Address\" : {\n",
    "\"House No.\": \"W2\",\n",
    "\"Locality\": \"Garden Bay\",\n",
    "\"PinCode\": 226023,\n",
    "\"City\": \"Gurgaon\"}}\n",
    "\n",
    "# We can access the nested dictionary in the following way\n",
    "dict1[\"Address\"][\"City\"]"
   ]
  },
  {
   "cell_type": "markdown",
   "id": "35c1f46f-7d44-4c54-bae9-848bac6f8bf0",
   "metadata": {},
   "source": [
    "__Q7__. Using setdefault() method, create key named topics in the given dictionary and also add the value of\n",
    "the key as this list ['Python', 'Machine Learning’, 'Deep Learning']<br>\n",
    "dict1 = {'language' : 'Python', 'course': 'Data Science Masters'}"
   ]
  },
  {
   "cell_type": "markdown",
   "id": "d49e8be1-a832-4250-a07a-4f7076558522",
   "metadata": {},
   "source": [
    "setdefault() method inserts a key with the default value to the dictionary.It returns the value of a key (if the key is in dictionary)."
   ]
  },
  {
   "cell_type": "code",
   "execution_count": 18,
   "id": "82de8ab8-0696-4057-8a69-25ef43f29f43",
   "metadata": {},
   "outputs": [
    {
     "name": "stdout",
     "output_type": "stream",
     "text": [
      "{'language': 'Python', 'course': 'Data Science Masters', 'topics': ['Python', 'Machine Learning', 'Deep Learning']}\n"
     ]
    }
   ],
   "source": [
    "# Creating the dictionary\n",
    "dict1 = {'language' : 'Python', 'course': 'Data Science Masters'}\n",
    "\n",
    "# Using setdefault() to add a key-value pair\n",
    "dict1.setdefault('topics', ['Python', 'Machine Learning', 'Deep Learning'])\n",
    "\n",
    "# Printing the updated dictionary\n",
    "print(dict1)\n",
    "                        "
   ]
  },
  {
   "cell_type": "markdown",
   "id": "068b308f-d025-4a68-94cc-1f6776a20c63",
   "metadata": {},
   "source": [
    "__Q8__. What are the three view objects in dictionaries? Use the three in-built methods in python to display\n",
    "these three view objects for the given dictionary.<br>\n",
    "dict1 = {'Sport': 'Cricket' , 'Teams': ['India', 'Australia', 'England', 'South Africa', 'Sri Lanka', 'New Zealand']}"
   ]
  },
  {
   "cell_type": "markdown",
   "id": "8bf949d3-5d43-4085-8287-9112fe84efb3",
   "metadata": {},
   "source": [
    "In Python, dictionaries have three view objects, which are:\n",
    "\n",
    "keys(): Returns a view object that displays a list of all the keys in the dictionary. This view object can be converted into a list, tuple or any other data structure.\n",
    "\n",
    "values(): Returns a view object that displays a list of all the values in the dictionary. This view object can be converted into a list, tuple or any other data structure.\n",
    "\n",
    "items(): Returns a view object that displays a list of all the key-value pairs (items) in the dictionary. This view object can be converted into a list, tuple or any other data structure.\n",
    "\n",
    "All three view objects are dynamic and reflect any changes made to the dictionary. This means that if you modify the dictionary, the view objects also get updated automatically.<br>\n",
    "__For the given dictionary__:"
   ]
  },
  {
   "cell_type": "code",
   "execution_count": 22,
   "id": "ea6a5686-f611-430c-8893-f8c607ec461f",
   "metadata": {},
   "outputs": [
    {
     "name": "stdout",
     "output_type": "stream",
     "text": [
      "keys:  dict_keys(['Sport', 'Teams'])\n",
      "values:  dict_values(['Cricket', ['India', 'Australia', 'England', 'South Africa', 'Sri Lanka', 'New Zealand']])\n",
      "items:  dict_items([('Sport', 'Cricket'), ('Teams', ['India', 'Australia', 'England', 'South Africa', 'Sri Lanka', 'New Zealand'])])\n"
     ]
    }
   ],
   "source": [
    "dict1 = {'Sport': 'Cricket' , 'Teams': ['India', 'Australia', 'England', 'South Africa', 'Sri Lanka', 'New Zealand']}\n",
    "\n",
    "keys= dict1.keys()\n",
    "print(\"keys: \", keys)\n",
    "\n",
    "values = dict1.values()\n",
    "print(\"values: \", values)\n",
    "\n",
    "items = dict1.items()\n",
    "print(\"items: \", items)\n",
    " "
   ]
  },
  {
   "cell_type": "code",
   "execution_count": null,
   "id": "3df8b45c-8a1a-477c-987c-3b2c985f7964",
   "metadata": {},
   "outputs": [],
   "source": [
    "#Completed"
   ]
  }
 ],
 "metadata": {
  "kernelspec": {
   "display_name": "Python 3 (ipykernel)",
   "language": "python",
   "name": "python3"
  },
  "language_info": {
   "codemirror_mode": {
    "name": "ipython",
    "version": 3
   },
   "file_extension": ".py",
   "mimetype": "text/x-python",
   "name": "python",
   "nbconvert_exporter": "python",
   "pygments_lexer": "ipython3",
   "version": "3.10.8"
  }
 },
 "nbformat": 4,
 "nbformat_minor": 5
}
