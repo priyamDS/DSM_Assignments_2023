{
 "cells": [
  {
   "cell_type": "markdown",
   "id": "e4f9d90f-8a6e-4596-83c1-45f7c2427e74",
   "metadata": {},
   "source": [
    "# Assignment - 7-Feb-2023"
   ]
  },
  {
   "cell_type": "markdown",
   "id": "3f7f7698-b05c-4a6a-a3d5-38d1ce6a2a25",
   "metadata": {},
   "source": [
    "Q1. You are writing code for a company. The requirement of the company is that you create a python\n",
    "function that will check whether the password entered by the user is correct or not. The function should\n",
    "take the password as input and return the string “Valid Password” if the entered password follows the\n",
    "below-given password guidelines else it should return “Invalid Password”.<br>\n",
    "Note: 1. The Password should contain at least two uppercase letters and at least two lowercase letters.<br>\n",
    "2. The Password should contain at least a number and three special characters.<br>\n",
    "3. The length of the password should be 10 characters long.<br>"
   ]
  },
  {
   "cell_type": "code",
   "execution_count": null,
   "id": "aaafe4eb-6fed-40a1-8f70-2e118d25e930",
   "metadata": {},
   "outputs": [],
   "source": [
    "def password(s):\n",
    "    l, u ,p, d = 0, 0, 0, 0\n",
    "    if len(s) == 10: #Checking for length of password\n",
    "        for i in s:\n",
    "            #Checking for uppercase letter\n",
    "            if (i.islower()):\n",
    "                l+=1\n",
    "            #Checking for lowercase letter    \n",
    "            if (i.isupper()):\n",
    "                u+=1\n",
    "            #Checking for digit    \n",
    "            if (i.isdigit()):\n",
    "                d+=1\n",
    "            #Checking for special characters    \n",
    "            if(i== \"@\" or i==\"#\" or i==\"$\" or i==\"_\"):\n",
    "                p+=1\n",
    "                \n",
    "    #Checking for the given condition about password            \n",
    "    if(l>=2 and u>=2 and p==3 and d>=1 and l+u+p+d==len(s)):\n",
    "        print(\"Password is valid\")\n",
    "                \n",
    "    else:\n",
    "        print(\"Password is invalid\")"
   ]
  },
  {
   "cell_type": "code",
   "execution_count": null,
   "id": "e1a67b17-d65c-464a-b7b0-0b6c7f86f81e",
   "metadata": {},
   "outputs": [],
   "source": [
    "p1 = password(\"ABCwef@#$3\")"
   ]
  },
  {
   "cell_type": "markdown",
   "id": "f44f93d2-0aa0-4889-8cc3-c0f164dc3997",
   "metadata": {},
   "source": [
    "Q2. Solve the below-given questions using at least one of the following:\n",
    "1. Lambda function\n",
    "2. Filter function\n",
    "3. Map function\n",
    "4. List Comprehension\n"
   ]
  },
  {
   "cell_type": "markdown",
   "id": "2034ad5b-5876-4d0a-8b79-715b4b0647c6",
   "metadata": {},
   "source": [
    "* Check if the string starts with a particular letter"
   ]
  },
  {
   "cell_type": "code",
   "execution_count": 6,
   "id": "2985d9fc-f3fe-4558-95a0-749d21a82817",
   "metadata": {},
   "outputs": [
    {
     "name": "stdout",
     "output_type": "stream",
     "text": [
      "['apple', 'avacado']\n"
     ]
    }
   ],
   "source": [
    "s=['banana', 'ornage', 'apple', 'guava','avacado']\n",
    "letter = 'a'\n",
    "\n",
    "a= [i for i in s if i.startswith(letter)]\n",
    "print(a)\n"
   ]
  },
  {
   "cell_type": "markdown",
   "id": "364ebf89-e788-48bf-99df-477b780390c4",
   "metadata": {},
   "source": [
    "* Check if the string is numeric"
   ]
  },
  {
   "cell_type": "code",
   "execution_count": null,
   "id": "d323869c-1eff-4614-9c56-1afaa4d57eb0",
   "metadata": {},
   "outputs": [],
   "source": [
    "s=input(\"Enter the string: \")\n",
    "is_numeric = all(char.isdigit() for char in s)\n",
    "print(is_numeric)  \n"
   ]
  },
  {
   "cell_type": "markdown",
   "id": "09dd73d4-2e47-41ad-aa89-19a586a8bef8",
   "metadata": {},
   "source": [
    "* Sort a list of tuples having fruit names and their quantity.<br>  [(\"mango\",99), (\"orange\",80), (\"grapes\", 1000)]"
   ]
  },
  {
   "cell_type": "code",
   "execution_count": 2,
   "id": "f8576840-bc4f-44c9-9ef2-faffc9ef03db",
   "metadata": {},
   "outputs": [
    {
     "name": "stdout",
     "output_type": "stream",
     "text": [
      "[('grapes', 1000), ('mango', 99), ('orange', 80)]\n"
     ]
    }
   ],
   "source": [
    "tup = [(\"mango\",99), (\"orange\",80), (\"grapes\", 1000)]\n",
    "sorted_tup = sorted(tup,key = lambda x: x[0])\n",
    "print(sorted_tup)"
   ]
  },
  {
   "cell_type": "markdown",
   "id": "f3e675cc-8b88-4980-aaac-8fa812c1e958",
   "metadata": {},
   "source": [
    "* Find the squares of numbers from 1 to 10."
   ]
  },
  {
   "cell_type": "code",
   "execution_count": 7,
   "id": "3728eca7-8fae-4a9d-96c7-b6503570b543",
   "metadata": {},
   "outputs": [
    {
     "data": {
      "text/plain": [
       "[1, 4, 9, 16, 25, 36, 49, 64, 81, 100]"
      ]
     },
     "execution_count": 7,
     "metadata": {},
     "output_type": "execute_result"
    }
   ],
   "source": [
    "l= [1,2,3,4,5,6,7,8,9,10]\n",
    "list(map(lambda x: x**2,l))"
   ]
  },
  {
   "cell_type": "markdown",
   "id": "090a44fe-bef0-4674-aa56-0d481122b49a",
   "metadata": {},
   "source": [
    "* Find the cube root of numbers from 1 to 10"
   ]
  },
  {
   "cell_type": "code",
   "execution_count": 10,
   "id": "7dbcca17-eaea-4ad1-abcf-de7251ef700b",
   "metadata": {},
   "outputs": [
    {
     "data": {
      "text/plain": [
       "[1.0,\n",
       " 1.2599210498948732,\n",
       " 1.4422495703074083,\n",
       " 1.5874010519681994,\n",
       " 1.7099759466766968,\n",
       " 1.8171205928321397,\n",
       " 1.912931182772389,\n",
       " 2.0,\n",
       " 2.080083823051904,\n",
       " 2.154434690031884]"
      ]
     },
     "execution_count": 10,
     "metadata": {},
     "output_type": "execute_result"
    }
   ],
   "source": [
    "l= [1,2,3,4,5,6,7,8,9,10]\n",
    "list(map(lambda x: x**(1/3),l))"
   ]
  },
  {
   "cell_type": "markdown",
   "id": "75751669-d024-411d-8418-643d3930a5c9",
   "metadata": {},
   "source": [
    "* Check if a given number is even."
   ]
  },
  {
   "cell_type": "code",
   "execution_count": 19,
   "id": "ddadb2a5-3f09-456b-80bb-b2dd829a4a50",
   "metadata": {},
   "outputs": [
    {
     "data": {
      "text/plain": [
       "'Odd'"
      ]
     },
     "execution_count": 19,
     "metadata": {},
     "output_type": "execute_result"
    }
   ],
   "source": [
    "num = lambda x: \"Even\" if  x%2==0 else \"Odd\"\n",
    "num(75)"
   ]
  },
  {
   "cell_type": "markdown",
   "id": "374c04ff-46f3-416b-96f7-5ddb7682ab54",
   "metadata": {},
   "source": [
    "* Filter odd numbers from the given list.<br>\n",
    "[1,2,3,4,5,6,7,8,9,10]"
   ]
  },
  {
   "cell_type": "code",
   "execution_count": 11,
   "id": "51cf067c-d466-419e-bfdd-d4ec8ff23d68",
   "metadata": {},
   "outputs": [
    {
     "data": {
      "text/plain": [
       "[1, 3, 5, 7, 9]"
      ]
     },
     "execution_count": 11,
     "metadata": {},
     "output_type": "execute_result"
    }
   ],
   "source": [
    "l= [1,2,3,4,5,6,7,8,9,10]\n",
    "fil = filter(lambda x: x%2 != 0,l)\n",
    "list(fil)\n",
    "\n"
   ]
  },
  {
   "cell_type": "markdown",
   "id": "c29552b4-f976-45df-8ca4-9f74f3b1c4a5",
   "metadata": {},
   "source": [
    "* Sort a list of integers into positive and negative integers lists.<br>\n",
    "[1,2,3,4,5,6,-1,-2,-3,-4,-5,0]"
   ]
  },
  {
   "cell_type": "code",
   "execution_count": 18,
   "id": "0680af62-a792-4bc3-8345-7a8479d66c05",
   "metadata": {},
   "outputs": [
    {
     "name": "stdout",
     "output_type": "stream",
     "text": [
      "Positive integers: [1, 2, 3, 4, 5, 6, 0]\n",
      "Negative integers:  [-1, -2, -3, -4, -5]\n"
     ]
    }
   ],
   "source": [
    "l= [1,2,3,4,5,6,-1,-2,-3,-4,-5,0]\n",
    "l1 = list(filter(lambda x: x>=0,l))\n",
    "l2 = list(filter(lambda x: x<0,l))\n",
    "print(\"Positive integers:\",l1)\n",
    "print(\"Negative integers: \",l2)"
   ]
  },
  {
   "cell_type": "code",
   "execution_count": null,
   "id": "09f5d891-dbae-4383-9388-79571941c9fc",
   "metadata": {},
   "outputs": [],
   "source": [
    "#Completed"
   ]
  },
  {
   "cell_type": "code",
   "execution_count": null,
   "id": "2b90d3f5-4052-4022-a65b-a7c7cd1beb73",
   "metadata": {},
   "outputs": [],
   "source": []
  }
 ],
 "metadata": {
  "kernelspec": {
   "display_name": "Python 3 (ipykernel)",
   "language": "python",
   "name": "python3"
  },
  "language_info": {
   "codemirror_mode": {
    "name": "ipython",
    "version": 3
   },
   "file_extension": ".py",
   "mimetype": "text/x-python",
   "name": "python",
   "nbconvert_exporter": "python",
   "pygments_lexer": "ipython3",
   "version": "3.10.8"
  }
 },
 "nbformat": 4,
 "nbformat_minor": 5
}
