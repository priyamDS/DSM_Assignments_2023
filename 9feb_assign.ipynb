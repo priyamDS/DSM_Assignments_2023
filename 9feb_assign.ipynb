{
 "cells": [
  {
   "cell_type": "markdown",
   "id": "6e9e46ab-93fa-4ba4-8b73-7249d7dafdea",
   "metadata": {},
   "source": [
    "Q1. Create a vehicle class with an init method having instance variables as name_of_vehicle, max_speed\n",
    "and average_of_vehicle."
   ]
  },
  {
   "cell_type": "code",
   "execution_count": 29,
   "id": "5fb4be57-afd3-48e2-95f3-d77d76c8a672",
   "metadata": {},
   "outputs": [],
   "source": [
    "class Vehicle:\n",
    "    def __init__(self,name_of_vehicle, max_speed,average_of_vehicle):\n",
    "        self.name_of_vehicle = name_of_vehicle\n",
    "        self.max_speed = max_speed\n",
    "        self.average_of_vehicle = average_of_vehicle\n",
    "    \n",
    "    def display(self):\n",
    "        print(\"Name of the vehicle: \", self.name_of_vehicle)\n",
    "        print(\"Maximum Speed: \", self.max_speed)\n",
    "        print(\"Average of a vehicle: \", self.average_of_vehicle)\n",
    "        \n",
    "    \n",
    "        "
   ]
  },
  {
   "cell_type": "code",
   "execution_count": 30,
   "id": "11fe7a24-26aa-48ba-83b2-e14ebc971ad5",
   "metadata": {},
   "outputs": [
    {
     "name": "stdout",
     "output_type": "stream",
     "text": [
      "Name of the vehicle:  SUV\n",
      "Maximum Speed:  120\n",
      "Average of a vehicle:  15\n"
     ]
    }
   ],
   "source": [
    "# Creating an object of the vehicle class\n",
    "car1 = Vehicle(\"SUV\", 120, 15)\n",
    "car1.display()"
   ]
  },
  {
   "cell_type": "markdown",
   "id": "d0051c61-e6ae-4784-b66f-74c57200ef70",
   "metadata": {},
   "source": [
    "Q2. Create a child class car from the vehicle class created in Que 1, which will inherit the vehicle class.\n",
    "Create a method named seating_capacity which takes capacity as an argument and returns the name of\n",
    "the vehicle and its seating capacity."
   ]
  },
  {
   "cell_type": "code",
   "execution_count": 32,
   "id": "90edfbc1-63cc-408d-b99f-f2b4b52f156b",
   "metadata": {},
   "outputs": [
    {
     "name": "stdout",
     "output_type": "stream",
     "text": [
      "Name of vehicle: Car, Seating capacity: 4\n"
     ]
    }
   ],
   "source": [
    "class Car(Vehicle):\n",
    "    def seating_capacity(self, capacity):\n",
    "        return f\"Name of vehicle: {self.name_of_vehicle}, Seating capacity: {capacity}\"\n",
    "\n",
    "# Creating an object of the Car class\n",
    "car2 = Car(\"Car\", 120, 20)\n",
    "\n",
    "# Printing the output of the seating_capacity method\n",
    "print(car2.seating_capacity(4))"
   ]
  },
  {
   "cell_type": "markdown",
   "id": "a7d0d74a-437a-4c67-8038-a8aa8be75047",
   "metadata": {},
   "source": [
    "Q3. What is multiple inheritance? Write a python code to demonstrate multiple inheritance."
   ]
  },
  {
   "cell_type": "markdown",
   "id": "f8514a3a-6193-4764-8d40-047eb1293fbb",
   "metadata": {},
   "source": [
    "Multiple inheritance is a feature of object-oriented programming languages in which a class can inherit properties and methods from multiple parent classes. This allows a class to inherit properties and methods from more than one parent class, giving it the ability to access the properties and methods of multiple classes."
   ]
  },
  {
   "cell_type": "code",
   "execution_count": 8,
   "id": "646479b2-ec01-40ed-aa8a-39a8b8fcdd1c",
   "metadata": {},
   "outputs": [],
   "source": [
    "class Id:\n",
    "    def __init__(self,emp_id):\n",
    "        self.emp_id = emp_id\n",
    "        \n",
    "    def get_emp_id(self):\n",
    "        return self.emp_id\n",
    "    \n",
    "class Salary:\n",
    "    def __init__(self,emp_salary):\n",
    "        self.emp_salary = emp_salary\n",
    "        \n",
    "    def get_salary(self):\n",
    "        return self.emp_salary\n",
    "    \n",
    "class Employee(Id,Salary):\n",
    "    def __init__(self,emp_id,emp_salary):\n",
    "        Id.__init__(self,emp_id)\n",
    "        Salary.__init__(self,emp_salary)\n",
    "    def get_employee_details(self):\n",
    "        return f\"An Employee has id {self.emp_id} with salary Rs. {self.emp_salary}.\""
   ]
  },
  {
   "cell_type": "code",
   "execution_count": 9,
   "id": "798c0422-049f-430b-b943-a80aa6b2e0ae",
   "metadata": {},
   "outputs": [
    {
     "data": {
      "text/plain": [
       "'An Employee has id ABC123 with salary Rs. 50000.'"
      ]
     },
     "execution_count": 9,
     "metadata": {},
     "output_type": "execute_result"
    }
   ],
   "source": [
    "obj = Employee(\"ABC123\", 50000)\n",
    "obj.get_employee_details()"
   ]
  },
  {
   "cell_type": "markdown",
   "id": "2da07d65-90ff-464f-b137-03d0d99550ad",
   "metadata": {
    "tags": []
   },
   "source": [
    "Q4. What are getter and setter in python? Create a class and create a getter and a setter method in this\n",
    "class.\n",
    "\n",
    "Getters and setters are methods in object-oriented programming languages that allow you to get and set the values of an object's properties, respectively. The purpose of these methods is to provide a way to access and modify the properties of an object in a controlled manner, so that the object's internal state is protected and not changed in unexpected ways"
   ]
  },
  {
   "cell_type": "code",
   "execution_count": 27,
   "id": "85d0238b-d252-46b2-8ee8-b5e9b5152891",
   "metadata": {},
   "outputs": [
    {
     "name": "stdout",
     "output_type": "stream",
     "text": [
      "Name: Aman\n",
      "Updated Name: Rohan\n"
     ]
    }
   ],
   "source": [
    "#Example of getter and setter in python\n",
    "class Student:\n",
    "    def __init__(self, name, age):\n",
    "        self.__name = name\n",
    "        self.__age = age\n",
    "        \n",
    "    def get_name(self):\n",
    "        return self.__name\n",
    "    \n",
    "    def set_name(self,x):\n",
    "        self.__name = x\n",
    "    \n",
    "obj1 = Student(\"Aman\", 14) \n",
    "print(\"Name:\", obj1.get_name())\n",
    "\n",
    "obj1.set_name(\"Rohan\")\n",
    "print(\"Updated Name:\", obj1.get_name())"
   ]
  },
  {
   "cell_type": "markdown",
   "id": "64b5e447-84c8-421c-a526-68d96c3aa42f",
   "metadata": {},
   "source": [
    "Q5. What is method overriding in python? Write a python code to demonstrate method overriding."
   ]
  },
  {
   "cell_type": "markdown",
   "id": "5fbb033c-9c99-4b54-8657-d28a5a4d951c",
   "metadata": {},
   "source": [
    "Method overriding is a feature of object-oriented programming that allows a subclass to provide a different implementation for a method that is already defined in its superclass. The purpose of method overriding is to allow the subclass to inherit the behavior of the superclass but modify it as needed to suit its specific requirements."
   ]
  },
  {
   "cell_type": "code",
   "execution_count": 11,
   "id": "19dfc829-37e3-4404-bf62-47010b0e1a70",
   "metadata": {},
   "outputs": [
    {
     "name": "stdout",
     "output_type": "stream",
     "text": [
      "Area of Rectangle: 200\n",
      "Area of Circle: 78.5\n"
     ]
    }
   ],
   "source": [
    "class Shape:\n",
    "    def area(self):\n",
    "        pass\n",
    "    \n",
    "class Rectangle(Shape):\n",
    "    def __init__(self, width, height):\n",
    "        self.width = width\n",
    "        self.height = height\n",
    "        \n",
    "    def area(self):\n",
    "        return self.width * self.height\n",
    "    \n",
    "class Circle(Shape):\n",
    "    def __init__(self, radius):\n",
    "        self.radius = radius\n",
    "        \n",
    "    def area(self):\n",
    "        return 3.14 * self.radius * self.radius\n",
    "\n",
    "rect = Rectangle(10, 20)\n",
    "print(\"Area of Rectangle:\", rect.area())\n",
    "\n",
    "circle = Circle(5)\n",
    "print(\"Area of Circle:\", circle.area())\n",
    "\n",
    "# Here the area() method of parent class is overridden by the same method in child classes\n"
   ]
  },
  {
   "cell_type": "code",
   "execution_count": null,
   "id": "5cc77258-c7e9-4e77-a92e-090a583b3d3e",
   "metadata": {},
   "outputs": [],
   "source": [
    "#completed"
   ]
  }
 ],
 "metadata": {
  "kernelspec": {
   "display_name": "Python 3 (ipykernel)",
   "language": "python",
   "name": "python3"
  },
  "language_info": {
   "codemirror_mode": {
    "name": "ipython",
    "version": 3
   },
   "file_extension": ".py",
   "mimetype": "text/x-python",
   "name": "python",
   "nbconvert_exporter": "python",
   "pygments_lexer": "ipython3",
   "version": "3.10.8"
  }
 },
 "nbformat": 4,
 "nbformat_minor": 5
}
