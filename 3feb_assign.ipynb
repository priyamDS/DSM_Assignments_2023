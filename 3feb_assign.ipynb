{
 "cells": [
  {
   "cell_type": "markdown",
   "id": "1f7e2be4-54ef-45ad-8dbc-bc5e4671a124",
   "metadata": {},
   "source": [
    "## Q1.\n",
    "Which keyword is used to create a function? Create a function to return a list of odd numbers in the\n",
    "range of 1 to 25."
   ]
  },
  {
   "cell_type": "code",
   "execution_count": 1,
   "id": "e5fa6b17-f265-4e4b-9720-c207aaf7ce8c",
   "metadata": {},
   "outputs": [
    {
     "name": "stdout",
     "output_type": "stream",
     "text": [
      "1\n",
      "3\n",
      "5\n",
      "7\n",
      "9\n",
      "11\n",
      "13\n",
      "15\n",
      "17\n",
      "19\n",
      "21\n",
      "23\n",
      "25\n"
     ]
    }
   ],
   "source": [
    "#Answer 1: \"def\" keyword is used to create a function.\n",
    "for i in range(1,26):\n",
    "     if i % 2 != 0:\n",
    "        print(i)"
   ]
  },
  {
   "cell_type": "markdown",
   "id": "05514b19-1aed-43e0-a9ca-f766edcbfedb",
   "metadata": {},
   "source": [
    "## Q2.\n",
    "Why *args and **kwargs is used in some functions? Create a function each for *args and **kwargs to\n",
    "demonstrate their use.\n",
    "\n",
    "### Answer: \n",
    "*args is used to pass a variable number of non-keyword arguments to a function. It allows you to pass any number of arguments to the function, and these arguments will be passed to the function as a tuple. The asterisk (*) symbol is used to denote that you are passing a variable number of arguments.\n",
    "For Example:\n"
   ]
  },
  {
   "cell_type": "code",
   "execution_count": 12,
   "id": "a4288815-e840-4545-9e48-b1dd529e089d",
   "metadata": {},
   "outputs": [
    {
     "name": "stdout",
     "output_type": "stream",
     "text": [
      "1\n",
      "2\n",
      "3\n",
      "4\n"
     ]
    }
   ],
   "source": [
    "def print_args(*args):\n",
    "    for arg in args:\n",
    "        print(arg)\n",
    "\n",
    "print_args(1, 2, 3, 4)\n"
   ]
  },
  {
   "cell_type": "raw",
   "id": "49642d48-f8f5-419d-8cb1-763012d762b8",
   "metadata": {},
   "source": [
    "**kwargs is used to pass a variable number of keyword arguments to a function. It allows you to pass any number of keyword arguments to the function, and these arguments will be passed to the function as a dictionary. The double asterisks (**) symbol is used to denote that you are passing a variable number of keyword arguments.\n",
    "For Example:"
   ]
  },
  {
   "cell_type": "code",
   "execution_count": 13,
   "id": "888c751d-74a6-4291-ad41-680df878641a",
   "metadata": {},
   "outputs": [
    {
     "name": "stdout",
     "output_type": "stream",
     "text": [
      "name: John\n",
      "age: 30\n",
      "country: USA\n"
     ]
    }
   ],
   "source": [
    "def print_kwargs(**kwargs):\n",
    "    for key, value in kwargs.items():\n",
    "        print(f\"{key}: {value}\")\n",
    "\n",
    "print_kwargs(name=\"John\", age=30, country=\"USA\")\n"
   ]
  },
  {
   "cell_type": "markdown",
   "id": "814bbbe3-5f00-4c7a-94b5-3e109088cc6f",
   "metadata": {},
   "source": [
    "## Q3. \n",
    "What is an iterator in python? Name the method used to initialise the iterator object and the method\n",
    "used for iteration. Use these methods to print the first five elements of the given list [2, 4, 6, 8, 10, 12, 14, 16,\n",
    "18, 20].\n",
    "\n",
    "### Answer.\n",
    "An iterator in Python is an object that implements the iterator protocol, which consists of two methods: __iter__() and __next__(). The __iter__() method returns the iterator object and the __next__() method returns the next item in the iterable.\n",
    "\n",
    "An object is called iterable if it can be converted into an iterator using the iter() function. When you pass an iterable to the iter() function, it returns an iterator. You can then use the next() function to get the next item in the iterable.\n",
    "\n",
    "For given list:"
   ]
  },
  {
   "cell_type": "code",
   "execution_count": 1,
   "id": "e13f1484-55f1-4efd-87a3-067d5fce90d1",
   "metadata": {},
   "outputs": [
    {
     "name": "stdout",
     "output_type": "stream",
     "text": [
      "2\n",
      "4\n",
      "6\n",
      "8\n",
      "10\n"
     ]
    }
   ],
   "source": [
    "numbers = [2, 4, 6, 8, 10, 12, 14, 16, 18, 20]\n",
    "\n",
    "# Convert the list into an iterator\n",
    "iterator = iter(numbers)\n",
    "\n",
    "# Use the next() method to get the next item in the iterator\n",
    "print(next(iterator))\n",
    "print(next(iterator))\n",
    "print(next(iterator))\n",
    "print(next(iterator))\n",
    "print(next(iterator))\n"
   ]
  },
  {
   "cell_type": "markdown",
   "id": "c7fcf38e-1013-4c33-886e-80f9935aa00e",
   "metadata": {},
   "source": [
    "## Q4. \n",
    "What is a generator function in python? Why yield keyword is used? Give an example of a generator\n",
    "function.\n",
    "\n",
    "### Answer.\n",
    "A generator function is a special type of function in Python that allows you to return an iterable generator object, instead of a single value. When a generator function is called, it does not execute the function's code immediately. Instead, it returns a generator object, which can be used to execute the function's code and generate values one by one, on demand.\n",
    "\n",
    "The yield keyword is used in a generator function to return a value, and then pause the execution of the function until the next value is requested. The generator function can then resume from where it left off and continue executing the code until the next yield statement is encountered\n",
    "\n",
    "#### Example:"
   ]
  },
  {
   "cell_type": "code",
   "execution_count": 2,
   "id": "9a5a1fce-ed53-4c1a-bc9d-09420c4eeb5b",
   "metadata": {},
   "outputs": [
    {
     "name": "stdout",
     "output_type": "stream",
     "text": [
      "0\n",
      "1\n",
      "1\n",
      "2\n",
      "3\n",
      "5\n",
      "8\n",
      "13\n",
      "21\n",
      "34\n"
     ]
    }
   ],
   "source": [
    "def fibonacci(n):\n",
    "    a, b = 0, 1\n",
    "    for i in range(n):\n",
    "        yield a\n",
    "        a, b = b, a + b\n",
    "\n",
    "for number in fibonacci(10):\n",
    "    print(number)\n"
   ]
  },
  {
   "cell_type": "markdown",
   "id": "43975378-6e82-45a5-a463-4e18320e9707",
   "metadata": {},
   "source": [
    "## Q5. \n",
    "Create a generator function for prime numbers less than 1000. Use the next() method to print the\n",
    "first 20 prime numbers."
   ]
  },
  {
   "cell_type": "code",
   "execution_count": 1,
   "id": "7e913296-9f30-4779-9f2f-b56eb67ad2b5",
   "metadata": {},
   "outputs": [],
   "source": [
    "def gen_prime():\n",
    "    num = 2\n",
    "    while num < 1000:\n",
    "        for i in range(2,num):\n",
    "            if (num%i)==0:\n",
    "                break\n",
    "        else:\n",
    "            yield num\n",
    "        num+=1            \n",
    "    "
   ]
  },
  {
   "cell_type": "code",
   "execution_count": 2,
   "id": "cfbc2700-ee08-4e18-8f9c-c0d0cc8fb866",
   "metadata": {},
   "outputs": [
    {
     "name": "stdout",
     "output_type": "stream",
     "text": [
      "2\n",
      "3\n",
      "5\n",
      "7\n",
      "11\n",
      "13\n",
      "17\n",
      "19\n",
      "23\n",
      "29\n",
      "31\n",
      "37\n",
      "41\n",
      "43\n",
      "47\n",
      "53\n",
      "59\n",
      "61\n",
      "67\n",
      "71\n"
     ]
    }
   ],
   "source": [
    "primes = gen_prime()\n",
    "for i in range(20):\n",
    "    print(next(primes))"
   ]
  },
  {
   "cell_type": "code",
   "execution_count": null,
   "id": "bf7cb953-9229-4cde-bba1-8fb3666000c8",
   "metadata": {},
   "outputs": [],
   "source": [
    "#Completed"
   ]
  }
 ],
 "metadata": {
  "kernelspec": {
   "display_name": "Python 3 (ipykernel)",
   "language": "python",
   "name": "python3"
  },
  "language_info": {
   "codemirror_mode": {
    "name": "ipython",
    "version": 3
   },
   "file_extension": ".py",
   "mimetype": "text/x-python",
   "name": "python",
   "nbconvert_exporter": "python",
   "pygments_lexer": "ipython3",
   "version": "3.10.8"
  }
 },
 "nbformat": 4,
 "nbformat_minor": 5
}
